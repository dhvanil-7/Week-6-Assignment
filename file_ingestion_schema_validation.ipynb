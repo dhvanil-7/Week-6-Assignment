{
  "cells": [
    {
      "cell_type": "code",
      "source": [
        "%%writefile testutility.py\n",
        "import logging\n",
        "import os\n",
        "import subprocess\n",
        "import yaml\n",
        "import pandas as pd\n",
        "import datetime \n",
        "import gc\n",
        "import re\n",
        "\n",
        "def read_config_file(filepath):\n",
        "    with open(filepath, 'r') as stream:\n",
        "        try:\n",
        "            return yaml.safe_load(stream)\n",
        "        except yaml.YAMLError as exc:\n",
        "            logging.error(exc)\n",
        "\n",
        "def replacer(string, char):\n",
        "    pattern = char + '{2,}'\n",
        "    string = re.sub(pattern, char, string) \n",
        "    return string\n",
        "\n",
        "def col_header_val(df,table_config):\n",
        "    '''\n",
        "    replace whitespaces in the column\n",
        "    and standardized column names\n",
        "    '''\n",
        "    df.columns = df.columns.str.lower()\n",
        "    df.columns = df.columns.str.replace('[^\\w]','_',regex=True)\n",
        "    df.columns = list(map(lambda x: x.strip('_'), list(df.columns)))\n",
        "    df.columns = list(map(lambda x: replacer(x,'_'), list(df.columns)))\n",
        "    expected_col = list(map(lambda x: x.lower(),  table_config['columns']))\n",
        "    expected_col.sort()\n",
        "    df.columns =list(map(lambda x: x.lower(), list(df.columns)))\n",
        "    if len(df.columns) == len(expected_col) and list(expected_col)  == list(df.columns):\n",
        "        print(\"column name and column length validation passed\")\n",
        "        return 1\n",
        "    else:\n",
        "        print(\"column name and column length validation failed\")\n",
        "        mismatched_columns_file = list(set(df.columns).difference(expected_col))\n",
        "        print(\"Following File columns are not in the YAML file\",mismatched_columns_file)\n",
        "        missing_YAML_file = list(set(expected_col).difference(df.columns))\n",
        "        print(\"Following YAML columns are not in the file uploaded\",missing_YAML_file)\n",
        "        logging.info(f'df columns: {df.columns}')\n",
        "        logging.info(f'expected columns: {expected_col}')\n",
        "        return 0"
      ],
      "metadata": {
        "colab": {
          "base_uri": "https://localhost:8080/"
        },
        "id": "OVT649FzzKMP",
        "outputId": "46d6f3ea-2b10-45a4-bd5f-c5e2394a0218"
      },
      "execution_count": 4,
      "outputs": [
        {
          "output_type": "stream",
          "name": "stdout",
          "text": [
            "Overwriting testutility.py\n"
          ]
        }
      ]
    },
    {
      "cell_type": "code",
      "source": [
        "%%writefile file.yaml\n",
        "file_type: csv\n",
        "dataset_name: testfile\n",
        "file_name: 2019-Oct\n",
        "table_name: edsurv\n",
        "inbound_delimiter: \",\"\n",
        "outbound_delimiter: \"|\"\n",
        "skip_leading_rows: 1\n",
        "columns: \n",
        "    - event_type\n",
        "    - brand\n",
        "    - category_code\n",
        "    - category_id\n",
        "    - event_time\n",
        "    - product_id\n",
        "    - row_id"
      ],
      "metadata": {
        "colab": {
          "base_uri": "https://localhost:8080/"
        },
        "id": "hLFycEJtzO0s",
        "outputId": "fe76cbc6-18f7-41f2-9ea6-6d211cfe64ec"
      },
      "execution_count": 5,
      "outputs": [
        {
          "output_type": "stream",
          "name": "stdout",
          "text": [
            "Overwriting file.yaml\n"
          ]
        }
      ]
    },
    {
      "cell_type": "code",
      "source": [
        "import testutility as util\n",
        "import vaex\n",
        "config_data = util.read_config_file(\"file.yaml\")\n",
        "config_data"
      ],
      "metadata": {
        "colab": {
          "base_uri": "https://localhost:8080/"
        },
        "id": "9xfvxqLDMCZ2",
        "outputId": "5dbf25dd-7dfe-4227-ff9e-972393e87241"
      },
      "execution_count": 14,
      "outputs": [
        {
          "output_type": "execute_result",
          "data": {
            "text/plain": [
              "{'file_type': 'csv',\n",
              " 'dataset_name': 'testfile',\n",
              " 'file_name': '2019-Oct',\n",
              " 'table_name': 'edsurv',\n",
              " 'inbound_delimiter': ',',\n",
              " 'outbound_delimiter': '|',\n",
              " 'skip_leading_rows': 1,\n",
              " 'columns': ['event_type',\n",
              "  'brand',\n",
              "  'category_code',\n",
              "  'category_id',\n",
              "  'event_time',\n",
              "  'product_id',\n",
              "  'row_id']}"
            ]
          },
          "metadata": {},
          "execution_count": 14
        }
      ]
    },
    {
      "cell_type": "code",
      "source": [
        "import dask.dataframe as dd\n",
        "# read the file using config file\n",
        "file_type = config_data['file_type']\n",
        "source_file = \"./\" + config_data['file_name'] + f'.{file_type}'\n",
        "#print(\"\",source_file)\n",
        "df = dd.read_csv(source_file)\n",
        "print(df.head())"
      ],
      "metadata": {
        "colab": {
          "base_uri": "https://localhost:8080/"
        },
        "id": "poiIRKIBMCec",
        "outputId": "eb19a720-4945-430e-ae62-a75b370f7180"
      },
      "execution_count": 3,
      "outputs": [
        {
          "output_type": "stream",
          "name": "stdout",
          "text": [
            "                event_time event_type  product_id          category_id  \\\n",
            "0  2019-10-01 00:00:00 UTC       view    44600062  2103807459595387724   \n",
            "1  2019-10-01 00:00:00 UTC       view     3900821  2053013552326770905   \n",
            "2  2019-10-01 00:00:01 UTC       view    17200506  2053013559792632471   \n",
            "3  2019-10-01 00:00:01 UTC       view     1307067  2053013558920217191   \n",
            "4  2019-10-01 00:00:04 UTC       view     1004237  2053013555631882655   \n",
            "\n",
            "                         category_code     brand    price    user_id  \\\n",
            "0                                  NaN  shiseido    35.79  541312140   \n",
            "1  appliances.environment.water_heater      aqua    33.20  554748717   \n",
            "2           furniture.living_room.sofa       NaN   543.10  519107250   \n",
            "3                   computers.notebook    lenovo   251.74  550050854   \n",
            "4               electronics.smartphone     apple  1081.98  535871217   \n",
            "\n",
            "                           user_session  \n",
            "0  72d76fde-8bb3-4e00-8c23-a032dfed738c  \n",
            "1  9333dfbd-b87a-4708-9857-6336556b0fcc  \n",
            "2  566511c2-e2e3-422b-b695-cf8e6e792ca8  \n",
            "3  7c90fc70-0e80-4590-96f3-13c02c18c713  \n",
            "4  c6bd7419-2748-4c56-95b4-8cec9ff8b80d  \n"
          ]
        }
      ]
    },
    {
      "cell_type": "code",
      "source": [
        "df.info(memory_usage=True)"
      ],
      "metadata": {
        "colab": {
          "base_uri": "https://localhost:8080/"
        },
        "id": "Ts8R9nmoiGQ7",
        "outputId": "e392b0cc-2cc0-41eb-be6f-76a899e178fb"
      },
      "execution_count": 5,
      "outputs": [
        {
          "output_type": "stream",
          "name": "stdout",
          "text": [
            "<class 'dask.dataframe.core.DataFrame'>\n",
            "Columns: 9 entries, event_time to user_session\n",
            "dtypes: object(5), float64(1), int64(3)\n",
            "memory usage: 2.8 GB\n"
          ]
        }
      ]
    },
    {
      "cell_type": "code",
      "source": [
        "#validate the header of the file\n",
        "util.col_header_val(df,config_data)\n"
      ],
      "metadata": {
        "colab": {
          "base_uri": "https://localhost:8080/"
        },
        "id": "tI4dTI5RMCg3",
        "outputId": "1a8f318a-c3b6-443a-e041-169bd776a9ff"
      },
      "execution_count": 15,
      "outputs": [
        {
          "output_type": "stream",
          "name": "stdout",
          "text": [
            "column name and column length validation failed\n",
            "Following File columns are not in the YAML file ['user_id', 'user_session', 'price']\n",
            "Following YAML columns are not in the file uploaded ['row_id']\n"
          ]
        },
        {
          "output_type": "execute_result",
          "data": {
            "text/plain": [
              "0"
            ]
          },
          "metadata": {},
          "execution_count": 15
        }
      ]
    },
    {
      "cell_type": "code",
      "source": [
        "import dask.dataframe as dd\n",
        "# saving file in pipe seperated text file\n",
        "file_type = config_data['file_type']\n",
        "output_path = \"./\" + config_data['file_name'] + '_new' + f'.{file_type}'\n",
        "seperator = config_data['outbound_delimiter']\n",
        "\n",
        "df.to_csv(output_path, sep=seperator, single_file=True, index=False)  "
      ],
      "metadata": {
        "colab": {
          "base_uri": "https://localhost:8080/"
        },
        "id": "hkDzP8IPMCjb",
        "outputId": "a12d2190-c7ad-465a-e283-8cda83528ace"
      },
      "execution_count": 6,
      "outputs": [
        {
          "output_type": "execute_result",
          "data": {
            "text/plain": [
              "['/content/2019-Oct_new.csv']"
            ]
          },
          "metadata": {},
          "execution_count": 6
        }
      ]
    },
    {
      "cell_type": "code",
      "source": [
        "data = dd.read_csv('2019-Oct_new.csv', sep=seperator)"
      ],
      "metadata": {
        "id": "eOyn9jEUMClH"
      },
      "execution_count": 7,
      "outputs": []
    },
    {
      "cell_type": "code",
      "source": [
        "print('File Summary:\\n ', data.info(memory_usage=True) , '\\nNumber of rows: ' , len(data.index))"
      ],
      "metadata": {
        "colab": {
          "base_uri": "https://localhost:8080/"
        },
        "id": "_JYfcicfMCoC",
        "outputId": "c2d8319c-7200-4af7-be6a-8d67fbebee1a"
      },
      "execution_count": 31,
      "outputs": [
        {
          "output_type": "stream",
          "name": "stdout",
          "text": [
            "<class 'dask.dataframe.core.DataFrame'>\n",
            "Columns: 9 entries, event_time to user_session\n",
            "dtypes: object(5), float64(1), int64(3)\n",
            "memory usage: 2.8 GB\n",
            "File Summary:\n",
            "  None \n",
            "Number of rows:  42448764\n"
          ]
        }
      ]
    }
  ],
  "metadata": {
    "colab": {
      "provenance": [],
      "collapsed_sections": []
    },
    "kernelspec": {
      "display_name": "Python 3",
      "name": "python3"
    },
    "language_info": {
      "name": "python"
    }
  },
  "nbformat": 4,
  "nbformat_minor": 0
}