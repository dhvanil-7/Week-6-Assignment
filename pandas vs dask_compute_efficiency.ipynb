{
  "cells": [
    {
      "cell_type": "code",
      "execution_count": 2,
      "metadata": {
        "id": "C6AJTAchKvR-"
      },
      "outputs": [],
      "source": [
        "!pip install -q kaggle"
      ]
    },
    {
      "cell_type": "code",
      "execution_count": null,
      "metadata": {
        "id": "UDU7lhhZLQSY"
      },
      "outputs": [],
      "source": [
        "from google.colab import files\n",
        "files.upload()"
      ]
    },
    {
      "cell_type": "code",
      "execution_count": 4,
      "metadata": {
        "id": "ARWNgElcNFWR"
      },
      "outputs": [],
      "source": [
        "! mkdir ~/.kaggle/"
      ]
    },
    {
      "cell_type": "code",
      "execution_count": 6,
      "metadata": {
        "id": "P6xAXMRQNFfr"
      },
      "outputs": [],
      "source": [
        "! cp kaggle.json ~/.kaggle/"
      ]
    },
    {
      "cell_type": "code",
      "execution_count": 7,
      "metadata": {
        "id": "PanS5prVNFiR"
      },
      "outputs": [],
      "source": [
        "! chmod 600 ~/.kaggle/kaggle.json"
      ]
    },
    {
      "cell_type": "code",
      "execution_count": 8,
      "metadata": {
        "colab": {
          "base_uri": "https://localhost:8080/",
          "height": 0
        },
        "id": "0fzRLMCtNFki",
        "outputId": "c1f67e24-2f72-43d5-f1bc-a05afed72470"
      },
      "outputs": [
        {
          "output_type": "stream",
          "name": "stdout",
          "text": [
            "Downloading ecommerce-behavior-data-from-multi-category-store.zip to /content\n",
            "100% 4.28G/4.29G [00:34<00:00, 165MB/s]\n",
            "100% 4.29G/4.29G [00:34<00:00, 135MB/s]\n"
          ]
        }
      ],
      "source": [
        "! kaggle datasets download -d mkechinov/ecommerce-behavior-data-from-multi-category-store/download?datasetVersionNumber=8\n"
      ]
    },
    {
      "cell_type": "code",
      "execution_count": 9,
      "metadata": {
        "colab": {
          "base_uri": "https://localhost:8080/",
          "height": 0
        },
        "id": "N7RQZzTsNFpJ",
        "outputId": "5002f90e-d854-4f2d-80c5-16f8ff5ed42a"
      },
      "outputs": [
        {
          "output_type": "stream",
          "name": "stdout",
          "text": [
            "Archive:  /content/ecommerce-behavior-data-from-multi-category-store.zip\n",
            "  inflating: 2019-Nov.csv            \n",
            "  inflating: 2019-Oct.csv            \n"
          ]
        }
      ],
      "source": [
        "! unzip /content/ecommerce-behavior-data-from-multi-category-store.zip\n"
      ]
    },
    {
      "cell_type": "markdown",
      "source": [
        "#Pandas"
      ],
      "metadata": {
        "id": "wRObRNuKjd60"
      }
    },
    {
      "cell_type": "code",
      "source": [
        "import time\n",
        "import pandas as pd\n",
        "start = time.time()\n",
        "data = pd.read_csv('/content/2019-Oct.csv')\n",
        "end=time.time()\n",
        "read_csv = end-start\n",
        "print('Pandas taken time to read_csv: {} seconds'.format(read_csv))"
      ],
      "metadata": {
        "colab": {
          "base_uri": "https://localhost:8080/"
        },
        "id": "k27x3KVujN5i",
        "outputId": "e89585fb-6f3e-4e6a-dc10-38228f44b587"
      },
      "execution_count": 1,
      "outputs": [
        {
          "output_type": "stream",
          "name": "stdout",
          "text": [
            "Pandas taken time to read_csv: 112.57838988304138 seconds\n"
          ]
        }
      ]
    },
    {
      "cell_type": "code",
      "source": [
        "start = time.time()\n",
        "price_mean = data['price'].mean()\n",
        "end=time.time()\n",
        "calculate_mean = end-start\n",
        "print('Pandas taken time to calculate mean: {} seconds'.format(calculate_mean))"
      ],
      "metadata": {
        "colab": {
          "base_uri": "https://localhost:8080/"
        },
        "id": "RHDD-PtQjN9y",
        "outputId": "c5564106-32bb-47b7-f956-850477b4d824"
      },
      "execution_count": 2,
      "outputs": [
        {
          "output_type": "stream",
          "name": "stdout",
          "text": [
            "Pandas taken time to calculate mean: 0.21036863327026367 seconds\n"
          ]
        }
      ]
    },
    {
      "cell_type": "code",
      "source": [
        "start = time.time()\n",
        "unique_brand = data['brand'].unique()\n",
        "end=time.time()\n",
        "calculate_unique_brand = end-start\n",
        "print('Pandas taken time to calculate unique brands: {} seconds'.format(calculate_unique_brand))"
      ],
      "metadata": {
        "colab": {
          "base_uri": "https://localhost:8080/"
        },
        "id": "T_d7gIH4jN_s",
        "outputId": "b3193c0e-7309-4fc3-d7e5-c678cfbe4c4b"
      },
      "execution_count": 3,
      "outputs": [
        {
          "output_type": "stream",
          "name": "stdout",
          "text": [
            "Pandas taken time to calculate unique brands: 2.758063793182373 seconds\n"
          ]
        }
      ]
    },
    {
      "cell_type": "markdown",
      "source": [
        "##Pandas summary"
      ],
      "metadata": {
        "id": "XkEQylrFlUjy"
      }
    },
    {
      "cell_type": "code",
      "source": [
        "print(\"Pandas summary:\\n\"+ 'Pandas taken time to read_csv: {} seconds'.format(read_csv)+'\\nPandas taken time to calculate mean: {} seconds'.format(calculate_mean)\n",
        "+'\\nPandas taken time to calculate unique brands: {} seconds'.format(calculate_unique_brand))"
      ],
      "metadata": {
        "colab": {
          "base_uri": "https://localhost:8080/"
        },
        "id": "1aAKVh21k3hg",
        "outputId": "9d6d9cf7-1b3a-4cb1-b9d7-d5fd27650315"
      },
      "execution_count": 4,
      "outputs": [
        {
          "output_type": "stream",
          "name": "stdout",
          "text": [
            "Pandas summary:\n",
            "Pandas taken time to read_csv: 112.57838988304138 seconds\n",
            "Pandas taken time to calculate mean: 0.21036863327026367 seconds\n",
            "Pandas taken time to calculate unique brands: 2.758063793182373 seconds\n"
          ]
        }
      ]
    },
    {
      "cell_type": "code",
      "source": [
        "import dask.dataframe as dd\n",
        "start = time.time()\n",
        "data = dd.read_csv('/content/2019-Oct.csv')\n",
        "data.head()\n",
        "end=time.time()\n",
        "read_csv_dask = end-start\n",
        "print('Dask taken time to read_csv: {} seconds'.format(read_csv_dask))"
      ],
      "metadata": {
        "colab": {
          "base_uri": "https://localhost:8080/"
        },
        "id": "9tEF0uaBjOFM",
        "outputId": "e6c01389-301b-4fa1-c693-f087d919f6d7"
      },
      "execution_count": 8,
      "outputs": [
        {
          "output_type": "stream",
          "name": "stdout",
          "text": [
            "Dask taken time to read_csv: 1.4780125617980957 seconds\n"
          ]
        }
      ]
    },
    {
      "cell_type": "code",
      "source": [
        "start = time.time()\n",
        "price_mean = data['price'].mean().compute()\n",
        "end=time.time()\n",
        "calculate_mean_dask = end-start\n",
        "print('Dask taken time to calculate mean: {} seconds'.format(calculate_mean_dask))"
      ],
      "metadata": {
        "colab": {
          "base_uri": "https://localhost:8080/"
        },
        "id": "VYJhV36fjOKc",
        "outputId": "497bd8dd-84be-4438-d172-485de2c77396"
      },
      "execution_count": 9,
      "outputs": [
        {
          "output_type": "stream",
          "name": "stdout",
          "text": [
            "Dask taken time to calculate mean: 47.18963027000427 seconds\n"
          ]
        }
      ]
    },
    {
      "cell_type": "code",
      "source": [
        "start = time.time()\n",
        "unique_brand = data['brand'].unique().compute()\n",
        "end=time.time()\n",
        "calculate_unique_brand_dask = end-start\n",
        "print('Dask taken time to calculate unique brands: {} seconds'.format(calculate_unique_brand_dask))"
      ],
      "metadata": {
        "colab": {
          "base_uri": "https://localhost:8080/"
        },
        "id": "XGM92DHxjOMv",
        "outputId": "42fe6591-d798-4b36-ba06-87ec3ed7b53d"
      },
      "execution_count": 11,
      "outputs": [
        {
          "output_type": "stream",
          "name": "stdout",
          "text": [
            "Dask taken time to calculate unique brands: 37.92504096031189 seconds\n"
          ]
        }
      ]
    },
    {
      "cell_type": "markdown",
      "source": [
        "##Dask Summary:"
      ],
      "metadata": {
        "id": "pI3BVIJjlpJT"
      }
    },
    {
      "cell_type": "code",
      "source": [
        "print(\"Dask summary:\\n\"+ 'Dask taken time to read_csv: {} seconds'.format(read_csv_dask)+'\\nDask taken time to calculate mean: {} seconds'.format(calculate_mean_dask)\n",
        "+'\\nDask taken time to calculate unique brands: {} seconds'.format(calculate_unique_brand_dask))"
      ],
      "metadata": {
        "colab": {
          "base_uri": "https://localhost:8080/"
        },
        "id": "gXIJq2WbjORt",
        "outputId": "a414bbfb-a274-4638-ba2f-11da4604b6fe"
      },
      "execution_count": 12,
      "outputs": [
        {
          "output_type": "stream",
          "name": "stdout",
          "text": [
            "Dask summary:\n",
            "Dask taken time to read_csv: 1.4780125617980957 seconds\n",
            "Dask taken time to calculate mean: 47.18963027000427 seconds\n",
            "Dask taken time to calculate unique brands: 37.92504096031189 seconds\n"
          ]
        }
      ]
    }
  ],
  "metadata": {
    "colab": {
      "provenance": [],
      "collapsed_sections": []
    },
    "kernelspec": {
      "display_name": "Python 3",
      "name": "python3"
    },
    "language_info": {
      "name": "python"
    }
  },
  "nbformat": 4,
  "nbformat_minor": 0
}